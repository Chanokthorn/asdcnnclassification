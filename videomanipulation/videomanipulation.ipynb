{
 "cells": [
  {
   "cell_type": "markdown",
   "metadata": {},
   "source": [
    "<h1>Video Manipulation</h1>\n",
    "Multiple types of video manipulation based on recieved type of symptoms\n",
    "1. pixel value filter\n",
    "2. "
   ]
  },
  {
   "cell_type": "code",
   "execution_count": 1,
   "metadata": {},
   "outputs": [],
   "source": [
    "import numpy as np\n",
    "import cv2\n",
    "import os\n",
    "# import matplotlib.pyplot as plt\n",
    "import sys\n",
    "import numpy.ma as ma\n",
    "# os.environ['CUDA_VISIBLE_DEVICES'] = '2'"
   ]
  },
  {
   "cell_type": "code",
   "execution_count": 18,
   "metadata": {},
   "outputs": [],
   "source": [
    "############## HYPERPARAMETERS ###############\n",
    "VALUE_THRESHOLD = 150\n",
    "C = 0.6"
   ]
  },
  {
   "cell_type": "code",
   "execution_count": null,
   "metadata": {},
   "outputs": [],
   "source": [
    "img = cv2.imread('random.jpg')\n",
    "values = img[:,:,2]\n",
    "cp = np.copy(values)\n",
    "img[:,:,2]  = values\n",
    "cp = np.multiply(C * 255,np.power(10,np.subtract(np.divide(cp,255),1)))\n",
    "cp[values <= VALUE_THRESHOLD] = 0\n",
    "values[values > VALUE_THRESHOLD] -= VALUE_THRESHOLD\n",
    "values = np.add(values,cp)\n",
    "print(values)\n",
    "cv2.imshow(\"lol\",img)"
   ]
  },
  {
   "cell_type": "code",
   "execution_count": 39,
   "metadata": {},
   "outputs": [
    {
     "data": {
      "text/plain": [
       "array([[0, 1, 1, 2],\n",
       "       [0, 0, 1, 0]], dtype=int64)"
      ]
     },
     "execution_count": 39,
     "metadata": {},
     "output_type": "execute_result"
    }
   ],
   "source": [
    "a = np.array([[255,120],[175,180],[190,100]])\n",
    "b = np.subtract(np.copy(a),VALUE_THRESHOLD)\n",
    "tens = np.ones((3,2)) * 10\n",
    "b = np.multiply(C * 255, np.power(tens,np.subtract(np.divide(b,255),1)))\n",
    "# mask = ma.masked_where(a > VALUE_THRESHOLD, a)\n",
    "mask = np.where(a > VALUE_THRESHOLD)\n",
    "a[a > VALUE_THRESHOLD] = VALUE_THRESHOLD\n",
    "# mask = ma.masked_where(a > VALUE_THRESHOLD, a)\n",
    "# b = ma.masked_array(b,mask)\n",
    "# a = np.add(a,b)\n"
   ]
  },
  {
   "cell_type": "code",
   "execution_count": 27,
   "metadata": {},
   "outputs": [],
   "source": [
    "cap = cv2.VideoCapture(0)\n",
    "RANGE = 255 - VALUE_THRESHOLD\n",
    "\n",
    "while(True):\n",
    "    ret, frame = cap.read()\n",
    "    hsv = cv2.cvtColor(frame,cv2.COLOR_BGR2HSV)\n",
    "    values = hsv[:,:,2]\n",
    "    cp = np.copy(values)\n",
    "    cp -= VALUE_THRESHOLD\n",
    "    cp = np.multiply(C * RANGE,np.power(30,np.subtract(np.divide(cp,RANGE),1)))\n",
    "    cp[values <= VALUE_THRESHOLD] = 0\n",
    "    values[values > VALUE_THRESHOLD] = VALUE_THRESHOLD\n",
    "    values = np.add(values,cp)\n",
    "    output = np.copy(hsv)\n",
    "    output[:,:,2] = values\n",
    "    output = cv2.cvtColor(output,cv2.COLOR_HSV2BGR)\n",
    "    cv2.imshow('output',output)\n",
    "    cv2.imshow('input',frame)\n",
    "    if cv2.waitKey(1) & 0xFF == ord('q'):\n",
    "        break\n",
    "    \n",
    "cap.release()\n",
    "cv2.destroyAllWindows()\n",
    "    "
   ]
  },
  {
   "cell_type": "code",
   "execution_count": null,
   "metadata": {},
   "outputs": [],
   "source": []
  }
 ],
 "metadata": {
  "kernelspec": {
   "display_name": "Python 3",
   "language": "python",
   "name": "python3"
  },
  "language_info": {
   "codemirror_mode": {
    "name": "ipython",
    "version": 3
   },
   "file_extension": ".py",
   "mimetype": "text/x-python",
   "name": "python",
   "nbconvert_exporter": "python",
   "pygments_lexer": "ipython3",
   "version": "3.6.1"
  }
 },
 "nbformat": 4,
 "nbformat_minor": 2
}
