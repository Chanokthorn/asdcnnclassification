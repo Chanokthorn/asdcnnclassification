{
 "cells": [
  {
   "cell_type": "code",
   "execution_count": 27,
   "metadata": {
    "colab": {
     "autoexec": {
      "startup": false,
      "wait_interval": 0
     }
    },
    "colab_type": "code",
    "id": "Kv2It0UYTBq7"
   },
   "outputs": [],
   "source": [
    "import cv2\n",
    "import matplotlib.pyplot as plt\n",
    "import os\n",
    "import numpy as np\n",
    "\n",
    "# TIME_FRAMES = 50\n",
    "BUFFER_SIZE = 100\n",
    "# AMOUNT_OF_FRAMES = TIME_FRAMES - BUFFER_SIZE + 1\n",
    "# AMOUNT_OF_VIDEOS = int(input(\"amount of videos: \"))\n",
    "\n",
    "WIDTH = 1280\n",
    "HEIGHT = 720\n",
    "\n",
    "frame_sq = []\n",
    "frame_sq_gray = []\n",
    "frame_sq_edges = []\n",
    "\n",
    "# dataset_no = input(\"starting number: \")\n",
    "video_count = 0\n",
    "                    \n",
    "\n",
    "\n",
    "\n",
    "# rgb = np.ndarray((TIME_FRAMES - (TIME_FRAMES % BUFFER_SIZE), 3))\n",
    "\n"
   ]
  },
  {
   "cell_type": "code",
   "execution_count": 28,
   "metadata": {
    "collapsed": true
   },
   "outputs": [],
   "source": [
    "def compare_img(img1,img2):\n",
    "    img1 = normalize_gray(img1)\n",
    "    img2 = normalize_gray(img2)\n",
    "    diff = img1 - img2\n",
    "    m_norm = np.sum(abs(diff))\n",
    "#     return m_norm\n",
    "    return 0\n",
    "def normalize_frame(frame):\n",
    "    return frame/255\n",
    "\n",
    "def normalize_gray(frame):\n",
    "    rng = np.max(frame) - np.min(frame)\n",
    "    amin = np.min(frame)\n",
    "    return (frame-amin)/rng #range from [0,1]\n",
    "def createDataset(data):\n",
    "#     dataset = data[0].copy()\n",
    "#     dataset.remove(dataset[0])\n",
    "#     for datum in data:\n",
    "#         dataset = np.append(dataset, datum, axis = 1)\n",
    "#     result  = np.append(data[0],np.append(dataset[1],np.append(dataset[2],dataset[3],axis=1),axis=1),axis=1)\n",
    "    result = np.append(h,np.append(s,np.append(v,opticFlow,axis=1),axis=1),axis=1)\n",
    "    return result\n",
    "def createTSV(dataset,filename):\n",
    "    dataset = (dataset.copy()).astype(str)\n",
    "#     datasetName = \"dataset\" + str(dataset_no) + \".tsv\"\n",
    "    datasetName = filename + \".tsv\"\n",
    "    file = open(datasetName, \"w\")\n",
    "#     file.write(\"h\\ts\\tv\\tframe_edges_comp\\tframe_comp\\n\")\n",
    "    for i in range(dataset.shape[0]):\n",
    "        file.write(\"\\t\".join(dataset[i,:].tolist()))\n",
    "        file.write(\"\\n\")\n",
    "#         if(i + 1 != dataset.shape[0]):\n",
    "#             file.write(\"\\n\")\n",
    "    file.close()\n",
    "    return\n",
    "def createTSVLabel(dataset,filename):\n",
    "    dataset = (dataset.copy()).astype(str)\n",
    "#     datasetName = \"label\" + str(dataset_no) + \".tsv\"\n",
    "    datasetName = filename\n",
    "    file = open(datasetName, \"w\")\n",
    "    file.write(\"havg\\thv\\tsavg\\tsv\\tvavg\\tvv\\tmagavg\\tmagv\\tangavg\\tangv\\n\")\n",
    "    for i in range(dataset.shape[0]):\n",
    "        file.write(\"\\t\".join(dataset[i,:].tolist()))\n",
    "        file.write(\"\\n\")\n",
    "#         if(i + 1 != dataset.shape[0]):\n",
    "#             file.write(\"\\n\")\n",
    "    file.close()\n",
    "    return\n"
   ]
  },
  {
   "cell_type": "markdown",
   "metadata": {},
   "source": [
    "<h1>Normalization</h1>"
   ]
  },
  {
   "cell_type": "code",
   "execution_count": 3,
   "metadata": {},
   "outputs": [
    {
     "ename": "FileNotFoundError",
     "evalue": "[Errno 2] No such file or directory: 'mag_scaler.p'",
     "output_type": "error",
     "traceback": [
      "\u001b[0;31m---------------------------------------------------------------------------\u001b[0m",
      "\u001b[0;31mFileNotFoundError\u001b[0m                         Traceback (most recent call last)",
      "\u001b[0;32m<ipython-input-3-acbf178928f0>\u001b[0m in \u001b[0;36m<module>\u001b[0;34m()\u001b[0m\n\u001b[1;32m      3\u001b[0m \u001b[0;32mimport\u001b[0m \u001b[0mpickle\u001b[0m\u001b[0;34m\u001b[0m\u001b[0m\n\u001b[1;32m      4\u001b[0m \u001b[0;34m\u001b[0m\u001b[0m\n\u001b[0;32m----> 5\u001b[0;31m \u001b[0mmag_scaler\u001b[0m \u001b[0;34m=\u001b[0m \u001b[0mpickle\u001b[0m\u001b[0;34m.\u001b[0m\u001b[0mload\u001b[0m\u001b[0;34m(\u001b[0m \u001b[0mopen\u001b[0m\u001b[0;34m(\u001b[0m \u001b[0;34m\"mag_scaler.p\"\u001b[0m\u001b[0;34m,\u001b[0m \u001b[0;34m\"rb\"\u001b[0m \u001b[0;34m)\u001b[0m \u001b[0;34m)\u001b[0m\u001b[0;34m\u001b[0m\u001b[0m\n\u001b[0m\u001b[1;32m      6\u001b[0m \u001b[0mang_scaler\u001b[0m \u001b[0;34m=\u001b[0m \u001b[0mpickle\u001b[0m\u001b[0;34m.\u001b[0m\u001b[0mload\u001b[0m\u001b[0;34m(\u001b[0m \u001b[0mopen\u001b[0m\u001b[0;34m(\u001b[0m \u001b[0;34m\"ang_scaler.p\"\u001b[0m\u001b[0;34m,\u001b[0m \u001b[0;34m\"rb\"\u001b[0m\u001b[0;34m)\u001b[0m \u001b[0;34m)\u001b[0m\u001b[0;34m\u001b[0m\u001b[0m\n\u001b[1;32m      7\u001b[0m \u001b[0;34m\u001b[0m\u001b[0m\n",
      "\u001b[0;31mFileNotFoundError\u001b[0m: [Errno 2] No such file or directory: 'mag_scaler.p'"
     ]
    }
   ],
   "source": [
    "from sklearn.preprocessing import StandardScaler\n",
    "from numpy import genfromtxt\n",
    "import pickle\n",
    "\n",
    "mag_scaler = pickle.load( open( \"mag_scaler.p\", \"rb\" ) )\n",
    "ang_scaler = pickle.load( open( \"ang_scaler.p\", \"rb\") )\n",
    "\n",
    "def normalize_mag(dataframe):\n",
    "    dataframeTmp = mag_scaler.transform(dataframe)\n",
    "    return dataframeTmp\n",
    "def normalize_ang(dataframe):\n",
    "    dataframeTmp = ang_scaler.transform(dataframe)\n",
    "    return dataframeTmp"
   ]
  },
  {
   "cell_type": "code",
   "execution_count": 29,
   "metadata": {
    "collapsed": true
   },
   "outputs": [],
   "source": [
    "def createCSV(dataset,filename):\n",
    "#     dataset = (dataset.copy()).astype(str)\n",
    "#     dataset_name = \"dataset\" + str(dataset_no) + \".csv\"\n",
    "    dataset_name = filename + \".csv\"\n",
    "    csv = open(dataset_name, \"w\")\n",
    "#     columnTitleRow = \"havg,hv,savg,sv,vavg,vv,magavg,magv,angavg,angv\\n\"\n",
    "#     csv.write(columnTitleRow)\n",
    "    for i in range(len(dataset)):\n",
    "#         csv.write(\",\".join(dataset[i,:].tolist()))\n",
    "        csv.write(\",\".join([str(v) for v in dataset[i].astype(str).tolist()]))\n",
    "#         csv.write(\"\\n\")\n",
    "    csv.close()"
   ]
  },
  {
   "cell_type": "markdown",
   "metadata": {},
   "source": [
    "<h1>STORE VIDEOS</h1>"
   ]
  },
  {
   "cell_type": "code",
   "execution_count": null,
   "metadata": {},
   "outputs": [],
   "source": [
    "import os\n",
    "import cv2\n",
    "import sys\n",
    "\n",
    "directory_name = input(\"directory name: \")\n",
    "os.makedirs(directory_name)\n",
    "\n",
    "BUFFER_SIZE = 100\n",
    "# AMOUNT_OF_VIDEOS = 70\n",
    "RECORD_AMOUNT = 20\n",
    "video_count = 91\n",
    "\n",
    "for i in range(RECORD_AMOUNT + 1):\n",
    "#     print(\"recording video \" + str(video_count) + \"...\")\n",
    "    sys.stdout.write(\"\\r\" + \"recording video \" + str(video_count) + \"...\")\n",
    "    sys.stdout.flush()\n",
    "    cap = cv2.VideoCapture(0)\n",
    "    WIDTH = int(cap.get(3))\n",
    "    HEIGHT = int(cap.get(4))\n",
    "    video_name = directory_name + \"/\" + str(video_count) + \".avi\"\n",
    "    fourcc = cv2.VideoWriter_fourcc(*'XVID')\n",
    "    out = cv2.VideoWriter(directory_name + \"/\" + str(video_count) + '.avi',fourcc, 20.0, (640,480))\n",
    "    frame_counter = 0\n",
    "    while(True):\n",
    "        ret, frame = cap.read()\n",
    "        if (ret == True):\n",
    "            out.write(frame)\n",
    "#             cv2.imshow('frame',frame)\n",
    "            frame_counter += 1\n",
    "        if (frame_counter == BUFFER_SIZE): break\n",
    "    video_count += 1\n",
    "#     tmp = input(\"press enter to continue\")\n",
    "    cap.release()\n",
    "    cv2.destroyAllWindows()\n",
    "    tmp = input(\"press Enter\")\n",
    "video_count = 0\n",
    "\n",
    "    \n",
    "    "
   ]
  },
  {
   "cell_type": "markdown",
   "metadata": {},
   "source": [
    "<h1>ANALYZE VIDEOS + PREPROCESSING</h1>"
   ]
  },
  {
   "cell_type": "code",
   "execution_count": 30,
   "metadata": {},
   "outputs": [],
   "source": [
    "import os\n",
    "import sys\n",
    "\n",
    "def get_data(directory,x = 0):\n",
    "    directory = \"../\" + directory\n",
    "    vids = os.listdir(directory)\n",
    "    BUFFER_SIZE = 100\n",
    "    DILATION_FACTOR = 9\n",
    "    tmp = np.arange(int(x),len(vids) - 1 + int(x))\n",
    "    videos = [name + '.avi' for name in (tmp.astype(str)).tolist()]\n",
    "    videos = [directory + \"/\" + name for name in videos]\n",
    "    video_count = 0\n",
    "    AMOUNT_OF_VIDEOS = len(videos) - 1\n",
    "\n",
    "    WIDTH = 0\n",
    "    HEIGHT = 0\n",
    "\n",
    "    video_list = []\n",
    "\n",
    "    opticflow_buffer = []\n",
    "\n",
    "    print(\"then\")\n",
    "    while(video_count < len(videos)-1):\n",
    "    # while(True):\n",
    "        sys.stdout.write(\"\\r\" + \"video \" + str(videos[video_count]) + \"...\")\n",
    "        sys.stdout.flush()\n",
    "        cap = cv2.VideoCapture(videos[video_count])\n",
    "        frame_count = 0\n",
    "        data_count = 0\n",
    "        ret, frame = cap.read()\n",
    "        HEIGHT = frame.shape[0]\n",
    "        WIDTH = frame.shape[1]\n",
    "        cap.release()\n",
    "        data_frame = np.ndarray((((BUFFER_SIZE - 1) // DILATION_FACTOR), HEIGHT//10, WIDTH//10, 5))\n",
    "        cap = cv2.VideoCapture(videos[video_count])\n",
    "        for i in range (BUFFER_SIZE):\n",
    "            ret, frame = cap.read()\n",
    "            frame = cv2.resize(frame, (0,0), fx=0.1, fy=0.1)\n",
    "            gray = cv2.cvtColor(frame, cv2.COLOR_BGR2GRAY)\n",
    "            opticflow_buffer.append(gray)\n",
    "            if(len(opticflow_buffer) == 2):\n",
    "                hsv = cv2.cvtColor(frame,cv2.COLOR_BGR2HSV)\n",
    "                hsv = np.subtract(np.multiply(np.divide(hsv,255),2),1)\n",
    "                flow = cv2.calcOpticalFlowFarneback(opticflow_buffer[0],opticflow_buffer[1], None, 0.5, 3, 15, 3, 5, 1.2, 0)\n",
    "                mag, ang = cv2.cartToPolar(flow[...,0], flow[...,1])\n",
    "                mag = cv2.normalize(mag,None,-1,1,cv2.NORM_MINMAX)\n",
    "                ang = (ang*180/np.pi/2/180) - 1\n",
    "                del opticflow_buffer[0]\n",
    "                if(frame_count % DILATION_FACTOR == 0):\n",
    "                    tmp = np.ndarray((48,64,2))\n",
    "                    tmp[:,:,0] = mag\n",
    "                    tmp[:,:,1] = ang\n",
    "                    data_frame[data_count, :, :, 0:3] = hsv\n",
    "                    data_frame[data_count, :, :, 3:5] = tmp\n",
    "                    data_count += 1\n",
    "                frame_count += 1\n",
    "        video_list.append(data_frame)\n",
    "        cap.release()\n",
    "        cv2.destroyAllWindows()\n",
    "        opticflow_buffer = []\n",
    "        video_count += 1\n",
    "    cv2.destroyAllWindows()\n",
    "    return np.asarray(video_list)"
   ]
  },
  {
   "cell_type": "code",
   "execution_count": 31,
   "metadata": {},
   "outputs": [],
   "source": [
    "def gen_data():\n",
    "    dataset = []\n",
    "    labels = []\n",
    "    counter = 0\n",
    "    folders = ['doit3','addition','addition2','addition3']\n",
    "    inits = [0,71,91,91]\n",
    "#     while(True):\n",
    "    for i in range(len(folders)):\n",
    "#         directory = input(\"Folder name: \")\n",
    "#         x = input(\"init: \")\n",
    "        directory = folders[i]\n",
    "        x = inits[i]\n",
    "        if(directory == \"\"): break\n",
    "        datum = get_data(directory,x)\n",
    "        if(counter == 0):\n",
    "            dataset = datum\n",
    "            counter += 1\n",
    "        else:\n",
    "            dataset = np.append(dataset, datum, axis = 0)\n",
    "    return dataset\n",
    "def appendLabels():\n",
    "    paths = ['label4.tsv','labeladdition.tsv','labeladdition2.tsv','labeladditional3.tsv']\n",
    "    labels = []\n",
    "    pathName = input(\"Path name: \")\n",
    "    pathName = \"../\"\n",
    "#     while(True):\n",
    "    for fileName in paths:\n",
    "#         fileName = input(\"File name: \")\n",
    "        if(fileName == \"\"):\n",
    "            break\n",
    "        with open(pathName + fileName) as f:\n",
    "            lines = f.readlines()\n",
    "        for line in lines:\n",
    "            labels.append(line[:-1])\n",
    "    return labels\n",
    "    "
   ]
  },
  {
   "cell_type": "code",
   "execution_count": 32,
   "metadata": {},
   "outputs": [
    {
     "name": "stdout",
     "output_type": "stream",
     "text": [
      "then\n",
      "video ../doit3/68.avi...then\n",
      "video ../addition/88.avi...then\n",
      "video ../addition2/129.avi...then\n",
      "video ../addition3/102.avi..."
     ]
    }
   ],
   "source": [
    "dataset = gen_data()"
   ]
  },
  {
   "cell_type": "code",
   "execution_count": null,
   "metadata": {},
   "outputs": [],
   "source": [
    "print(dataset)"
   ]
  },
  {
   "cell_type": "code",
   "execution_count": 33,
   "metadata": {},
   "outputs": [],
   "source": [
    "labels = appendLabels()"
   ]
  },
  {
   "cell_type": "code",
   "execution_count": 34,
   "metadata": {},
   "outputs": [
    {
     "name": "stdout",
     "output_type": "stream",
     "text": [
      "(138, 11, 48, 64, 5)\n",
      "138\n"
     ]
    }
   ],
   "source": [
    "print(dataset.shape)\n",
    "print(len(labels))"
   ]
  },
  {
   "cell_type": "code",
   "execution_count": 76,
   "metadata": {},
   "outputs": [
    {
     "name": "stderr",
     "output_type": "stream",
     "text": [
      "/home/bon/anaconda3/lib/python3.6/site-packages/numpy/core/_methods.py:32: RuntimeWarning: overflow encountered in reduce\n",
      "  return umr_sum(a, axis, dtype, out, keepdims)\n",
      "/home/bon/anaconda3/lib/python3.6/site-packages/numpy/core/_methods.py:32: RuntimeWarning: invalid value encountered in reduce\n",
      "  return umr_sum(a, axis, dtype, out, keepdims)\n"
     ]
    },
    {
     "data": {
      "text/plain": [
       "StandardScaler(copy=True, with_mean=True, with_std=True)"
      ]
     },
     "execution_count": 76,
     "metadata": {},
     "output_type": "execute_result"
    }
   ],
   "source": [
    "#nomalize opticflow\n",
    "from sklearn.preprocessing import StandardScaler\n",
    "dataset = np.nan_to_num(dataset)\n",
    "scaler1 = StandardScaler()\n",
    "scaler2 = StandardScaler()\n",
    "scaler1.fit(dataset[:,:,:,:,3].reshape(1,dataset.shape[0] * dataset.shape[1] \n",
    "                                      * dataset.shape[2] * dataset.shape[3]))\n",
    "scaler2.fit(dataset[:,:,:,:,4].reshape(1,dataset.shape[0] * dataset.shape[1] \n",
    "                                      * dataset.shape[2] * dataset.shape[3]))"
   ]
  },
  {
   "cell_type": "code",
   "execution_count": 77,
   "metadata": {},
   "outputs": [],
   "source": [
    "import pickle\n",
    "pickle.dump( scaler1, open( \"mag_scaler.p\", \"wb\" ) )\n",
    "pickle.dump( scaler2, open( \"ang_scaler.p\", \"wb\" ) )"
   ]
  },
  {
   "cell_type": "code",
   "execution_count": 35,
   "metadata": {},
   "outputs": [],
   "source": [
    "AMOUNT_OF_CLASSES = 7\n",
    "TRAIN_RATIO = 0.8\n",
    "def loadLabel(dataset, labels):\n",
    "    all_labels = np.zeros((len(labels), AMOUNT_OF_CLASSES))\n",
    "    label_counter = 0\n",
    "    per_label = [0] * AMOUNT_OF_CLASSES\n",
    "    for label in labels:\n",
    "        tmp = np.zeros((1,AMOUNT_OF_CLASSES))\n",
    "        if (label == \"static\"):\n",
    "            tmp[0,0] = 1\n",
    "            per_label[0] += 1\n",
    "        elif (label == \"move\"):\n",
    "            tmp[0,1] = 1\n",
    "            per_label[1] += 1\n",
    "        elif (label == \"rot\"):\n",
    "            tmp[0,2] = 1\n",
    "            per_label[2] += 1            \n",
    "        elif (label == \"frot\"):\n",
    "            tmp[0,3] = 1\n",
    "            per_label[3] += 1\n",
    "        elif (label == \"light\"):\n",
    "            tmp[0,4] = 1\n",
    "            per_label[4] += 1\n",
    "        elif (label == \"dynamiclight\"):\n",
    "            tmp[0,5] = 1\n",
    "            per_label[5] += 1\n",
    "        else:\n",
    "            tmp[0,6] = 1\n",
    "            per_label[6] += 1\n",
    "        all_labels[label_counter,:] = tmp\n",
    "        label_counter += 1\n",
    "    dataset, labels = shuffle(dataset, labels, random_state=0)\n",
    "    return assignData(dataset, all_labels)"
   ]
  },
  {
   "cell_type": "code",
   "execution_count": 36,
   "metadata": {},
   "outputs": [],
   "source": [
    "from sklearn.utils import shuffle\n",
    "def assignData(data,labels):\n",
    "    UNKNOWN_AMOUNT = 5\n",
    "    train_amount = int(data.shape[0] * TRAIN_RATIO)\n",
    "    AMOUNT_PER_CLASS = int((data.shape[0] - UNKNOWN_AMOUNT) * TRAIN_RATIO)\n",
    "    class_count = [0] * train_amount\n",
    "    train_data = []\n",
    "    test_data = []\n",
    "    train_labels = []\n",
    "    test_labels = []\n",
    "    for i in range (data.shape[0]):\n",
    "        if(len(train_data) == train_amount):\n",
    "            test_data.append(data[i])\n",
    "            test_labels.append(labels[i])\n",
    "        else:\n",
    "            index = np.argmax(labels[i])\n",
    "            if(index == AMOUNT_OF_CLASSES - 1):\n",
    "                test_data.append(data[i])\n",
    "                test_labels.append(labels[i])\n",
    "            if( class_count[index] < AMOUNT_PER_CLASS) :\n",
    "                train_data.append(data[i])\n",
    "                train_labels.append(labels[i])\n",
    "                class_count[index] += 1\n",
    "            else:\n",
    "                test_data.append(data[i])\n",
    "                test_labels.append(abels[i])\n",
    "    return np.asarray(train_data), np.asarray(test_data), np.asarray(train_labels), np.asarray(test_labels)\n",
    "                    "
   ]
  },
  {
   "cell_type": "code",
   "execution_count": 37,
   "metadata": {},
   "outputs": [],
   "source": [
    "x_train, x_test, y_train, y_test = loadLabel(dataset,labels)"
   ]
  },
  {
   "cell_type": "code",
   "execution_count": 38,
   "metadata": {},
   "outputs": [
    {
     "name": "stdout",
     "output_type": "stream",
     "text": [
      "(110, 11, 48, 64, 5)\n",
      "(110, 7)\n",
      "(32, 11, 48, 64, 5)\n",
      "(32, 7)\n"
     ]
    }
   ],
   "source": [
    "print(x_train.shape)\n",
    "print(y_train.shape)\n",
    "print(x_test.shape)\n",
    "print(y_test.shape)"
   ]
  },
  {
   "cell_type": "code",
   "execution_count": null,
   "metadata": {},
   "outputs": [],
   "source": []
  },
  {
   "cell_type": "code",
   "execution_count": null,
   "metadata": {},
   "outputs": [],
   "source": [
    "# (normalized,nans) = normalize(datasetUnnormalized)\n",
    "(normalized) = normalize(datasetUnnormalized)"
   ]
  },
  {
   "cell_type": "code",
   "execution_count": 39,
   "metadata": {},
   "outputs": [
    {
     "name": "stdout",
     "output_type": "stream",
     "text": [
      "(48, 64, 5)\n"
     ]
    }
   ],
   "source": [
    "print(x_train[0,0].shape)"
   ]
  },
  {
   "cell_type": "code",
   "execution_count": 50,
   "metadata": {},
   "outputs": [],
   "source": [
    "from keras import Sequential\n",
    "from keras.layers import Dense, Dropout, Activation, Flatten\n",
    "from keras.layers import Convolution3D, MaxPooling3D\n",
    "from keras.utils import np_utils\n",
    "\n",
    "def gen_model():\n",
    "#     nprandom.seed(123)\n",
    "#     model = Sequential()\n",
    "#     model.add(Convolution2D(32,5, activation='relu', input_shape=(48,64,5), padding='VALID'))\n",
    "#     model.add(MaxPooling2D(pool_size=(2, 2), strides=(2, 2)))\n",
    "#     model.add(Convolution2D(50,5, activation='relu'))\n",
    "#     model.add(MaxPooling2D(pool_size=(2, 2), strides=(2, 2)))\n",
    "#     model.add(Flatten())\n",
    "#     model.add(Dense(2048,activation='relu'))\n",
    "#     model.add(Dense(512,activation='relu'))\n",
    "#     model.add(Dense(AMOUNT_OF_CLASSES,activation='softmax'))\n",
    "    model = Sequential()\n",
    "    model.add(Convolution3D(20,(5,5,5),strides=1,input_shape = (11,48,64,5),activation='relu'))\n",
    "    model.add(MaxPooling3D(pool_size=(1,2,2), padding='VALID'))\n",
    "    model.add(Convolution3D(50,(3,5,5),strides=1,activation='relu'))\n",
    "    model.add(MaxPooling3D(pool_size=(2,2,2), padding='VALID'))\n",
    "    model.add(Convolution3D(100,(1,5,5),strides=1,activation='relu'))\n",
    "    model.add(Flatten())\n",
    "    model.add(Dense(8192, activation='relu'))\n",
    "    model.add(Dense(2048, activation='relu'))\n",
    "    model.add(Dense(512, activation='relu'))\n",
    "    model.add(Dense(7, activation='softmax'))\n",
    "    print(model.summary())\n",
    "    return model\n",
    "\n",
    "    "
   ]
  },
  {
   "cell_type": "code",
   "execution_count": 51,
   "metadata": {},
   "outputs": [
    {
     "name": "stdout",
     "output_type": "stream",
     "text": [
      "_________________________________________________________________\n",
      "Layer (type)                 Output Shape              Param #   \n",
      "=================================================================\n",
      "conv3d_20 (Conv3D)           (None, 7, 44, 60, 20)     12520     \n",
      "_________________________________________________________________\n",
      "max_pooling3d_17 (MaxPooling (None, 7, 22, 30, 20)     0         \n",
      "_________________________________________________________________\n",
      "conv3d_21 (Conv3D)           (None, 5, 18, 26, 50)     75050     \n",
      "_________________________________________________________________\n",
      "max_pooling3d_18 (MaxPooling (None, 2, 9, 13, 50)      0         \n",
      "_________________________________________________________________\n",
      "conv3d_22 (Conv3D)           (None, 2, 5, 9, 100)      125100    \n",
      "_________________________________________________________________\n",
      "flatten_5 (Flatten)          (None, 9000)              0         \n",
      "_________________________________________________________________\n",
      "dense_8 (Dense)              (None, 8192)              73736192  \n",
      "_________________________________________________________________\n",
      "dense_9 (Dense)              (None, 2048)              16779264  \n",
      "_________________________________________________________________\n",
      "dense_10 (Dense)             (None, 512)               1049088   \n",
      "_________________________________________________________________\n",
      "dense_11 (Dense)             (None, 7)                 3591      \n",
      "=================================================================\n",
      "Total params: 91,780,805\n",
      "Trainable params: 91,780,805\n",
      "Non-trainable params: 0\n",
      "_________________________________________________________________\n",
      "None\n"
     ]
    }
   ],
   "source": [
    "model = gen_model()"
   ]
  },
  {
   "cell_type": "code",
   "execution_count": 52,
   "metadata": {},
   "outputs": [],
   "source": [
    "model.compile(loss='binary_crossentropy',\n",
    "              optimizer='adam',\n",
    "              metrics=['accuracy'])"
   ]
  },
  {
   "cell_type": "code",
   "execution_count": 53,
   "metadata": {},
   "outputs": [
    {
     "name": "stdout",
     "output_type": "stream",
     "text": [
      "Epoch 1/10\n",
      "110/110 [==============================] - 19s 172ms/step - loss: 0.8032 - acc: 0.8338\n",
      "Epoch 2/10\n",
      "110/110 [==============================] - 17s 159ms/step - loss: 0.4058 - acc: 0.8571\n",
      "Epoch 3/10\n",
      "110/110 [==============================] - 18s 160ms/step - loss: 0.3997 - acc: 0.8571\n",
      "Epoch 4/10\n",
      "110/110 [==============================] - 18s 159ms/step - loss: 0.3959 - acc: 0.8571\n",
      "Epoch 5/10\n",
      "110/110 [==============================] - 18s 160ms/step - loss: 0.3931 - acc: 0.8571\n",
      "Epoch 6/10\n",
      "110/110 [==============================] - 18s 160ms/step - loss: 0.3896 - acc: 0.8571\n",
      "Epoch 7/10\n",
      "110/110 [==============================] - 17s 157ms/step - loss: 0.3883 - acc: 0.8571\n",
      "Epoch 8/10\n",
      "110/110 [==============================] - 17s 158ms/step - loss: 0.3886 - acc: 0.8571\n",
      "Epoch 9/10\n",
      "110/110 [==============================] - 17s 158ms/step - loss: 0.3849 - acc: 0.8571\n",
      "Epoch 10/10\n",
      "110/110 [==============================] - 18s 159ms/step - loss: 0.3835 - acc: 0.8584\n"
     ]
    },
    {
     "data": {
      "text/plain": [
       "<keras.callbacks.History at 0x7f71adeb8940>"
      ]
     },
     "execution_count": 53,
     "metadata": {},
     "output_type": "execute_result"
    }
   ],
   "source": [
    "model.fit(x_train, y_train, \n",
    "          batch_size=32, epochs=10, verbose=1)"
   ]
  },
  {
   "cell_type": "code",
   "execution_count": 47,
   "metadata": {},
   "outputs": [
    {
     "name": "stdout",
     "output_type": "stream",
     "text": [
      "[1.5578889846801758, 0.7455357313156128]\n"
     ]
    }
   ],
   "source": [
    "score = model.evaluate(x_test, y_test, verbose=0)\n",
    "print(score)"
   ]
  },
  {
   "cell_type": "code",
   "execution_count": null,
   "metadata": {},
   "outputs": [],
   "source": []
  }
 ],
 "metadata": {
  "colab": {
   "collapsed_sections": [],
   "default_view": {},
   "name": "ASD Vision measure.ipynb",
   "provenance": [],
   "toc_visible": true,
   "version": "0.3.2",
   "views": {}
  },
  "kernelspec": {
   "display_name": "Python 3",
   "language": "python",
   "name": "python3"
  },
  "language_info": {
   "codemirror_mode": {
    "name": "ipython",
    "version": 3
   },
   "file_extension": ".py",
   "mimetype": "text/x-python",
   "name": "python",
   "nbconvert_exporter": "python",
   "pygments_lexer": "ipython3",
   "version": "3.5.2"
  }
 },
 "nbformat": 4,
 "nbformat_minor": 2
}
