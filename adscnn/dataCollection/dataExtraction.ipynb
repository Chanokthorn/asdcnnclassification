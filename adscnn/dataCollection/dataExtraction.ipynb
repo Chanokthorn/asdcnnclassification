{
 "cells": [
  {
   "cell_type": "code",
   "execution_count": 22,
   "metadata": {},
   "outputs": [],
   "source": [
    "import sys\n",
    "import cv2\n",
    "import os\n",
    "import subprocess\n",
    "import scipy.io.wavfile\n",
    "import math\n",
    "########## PARAMETERS ##########\n",
    "BUFFER_SIZE = 60\n",
    "WIDTH = 1280\n",
    "HEIGHT = 720\n",
    "########## PARAMETERS ##########"
   ]
  },
  {
   "cell_type": "code",
   "execution_count": 20,
   "metadata": {},
   "outputs": [
    {
     "name": "stdout",
     "output_type": "stream",
     "text": [
      "W:  1920\n",
      "H:  1080\n",
      "0 : 60\n",
      "1 : 60\n",
      "2 : 60\n",
      "deleting:  GOPR0240vid3.mp4\n",
      "done extracting video:  GOPR0240.MP4\n",
      "total amount of frames:  216\n"
     ]
    }
   ],
   "source": [
    "def extractVideo(video_path, video_name, output_path):\n",
    "    video_counter = 0\n",
    "    frame_counter = 0\n",
    "    whole_frame_counter = 0\n",
    "    cap = cv2.VideoCapture(video_path)\n",
    "    ret,frame = cap.read()\n",
    "    HEIGHT = frame.shape[0]\n",
    "    WIDTH = frame.shape[1]\n",
    "    video_name = video_name[:-4]\n",
    "    output_path = output_path + video_name + \"vid\"\n",
    "    print(\"W: \",WIDTH)\n",
    "    print(\"H: \",HEIGHT)\n",
    "#     output_path = output_path + \"vid\"\n",
    "    fourcc = cv2.VideoWriter_fourcc(*'XVID')\n",
    "    out = cv2.VideoWriter(output_path+ str(video_counter) + '.mp4',fourcc, 20.0, (WIDTH,HEIGHT))\n",
    "#             output = cv2.VideoWriter(output_path + str(video_counter) + '.mp4',fourcc, 20.0, (WIDTH,HEIGHT))\n",
    "    while(True):\n",
    "        if(frame_counter != 0):\n",
    "            ret, frame = cap.read()\n",
    "        if (ret == True):\n",
    "            out.write(frame)\n",
    "            frame_counter += 1\n",
    "            whole_frame_counter += 1\n",
    "        else: break\n",
    "        if (frame_counter == BUFFER_SIZE): \n",
    "            print(video_counter,':',frame_counter)\n",
    "            video_counter += 1\n",
    "            frame_counter = 0\n",
    "            out = cv2.VideoWriter(output_path + str(video_counter) + '.mp4',fourcc, 20.0, (WIDTH,HEIGHT))\n",
    "    if(video_counter != BUFFER_SIZE):\n",
    "        print('deleting: ', output_path + str(video_counter) + '.mp4')\n",
    "        if os.path.exists(output_path + str(video_counter) + '.mp4'):\n",
    "            os.remove(output_path + str(video_counter) + '.mp4')\n",
    "    cap.release()\n",
    "    print(\"done extracting video: \", video_path)\n",
    "    print(\"total amount of frames: \", whole_frame_counter)\n",
    "extractVideo('GOPR0240.MP4','GOPR0240.MP4','')"
   ]
  },
  {
   "cell_type": "code",
   "execution_count": null,
   "metadata": {},
   "outputs": [],
   "source": [
    "def extractAudio(audio_path, audio_name, output_path):\n",
    "    command = \"ffmpeg -i C:/test.mp4 -ab 160k -ac 2 -ar 44100 -vn audio.wav\""
   ]
  },
  {
   "cell_type": "code",
   "execution_count": 25,
   "metadata": {},
   "outputs": [
    {
     "name": "stdout",
     "output_type": "stream",
     "text": [
      "44100\n",
      "(314228, 2)\n"
     ]
    }
   ],
   "source": [
    "rate, data = scipy.io.wavfile.read('audio.wav')\n",
    "print (rate)\n",
    "print (data.shape)"
   ]
  },
  {
   "cell_type": "code",
   "execution_count": 6,
   "metadata": {},
   "outputs": [],
   "source": [
    "def main():\n",
    "    input_folder_path = input(\"Enter input folder name: \")\n",
    "    input_folder_path =  input_folder_path + \"/\"\n",
    "    output_folder_path = input(\"Enter output folder name\")\n",
    "    output_folder_path = output_folder_path + \"/\"\n",
    "    if not os.path.exists(output_folder_path):\n",
    "        os.makedirs(output_folder_path)\n",
    "    video_names = os.listdir(input_folder_path)\n",
    "    video_paths = [input_folder_path + video_name for video_name in video_names]\n",
    "    for i in range (len(video_paths)):\n",
    "#         extractVideo(video_paths[i], video_names[i], output_folder_path)\n",
    "        testVideo(video_paths[i])\n",
    "    "
   ]
  }
 ],
 "metadata": {
  "kernelspec": {
   "display_name": "Python 3",
   "language": "python",
   "name": "python3"
  },
  "language_info": {
   "codemirror_mode": {
    "name": "ipython",
    "version": 3
   },
   "file_extension": ".py",
   "mimetype": "text/x-python",
   "name": "python",
   "nbconvert_exporter": "python",
   "pygments_lexer": "ipython3",
   "version": "3.6.4"
  }
 },
 "nbformat": 4,
 "nbformat_minor": 2
}
