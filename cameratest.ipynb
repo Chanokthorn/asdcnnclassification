{
 "cells": [
  {
   "cell_type": "code",
   "execution_count": 1,
   "metadata": {},
   "outputs": [],
   "source": [
    "import numpy as np\n",
    "import cv2\n",
    "import os\n",
    "import matplotlib.pyplot as plt\n",
    "import sys\n",
    "# os.environ['CUDA_VISIBLE_DEVICES'] = '2'"
   ]
  },
  {
   "cell_type": "code",
   "execution_count": 2,
   "metadata": {},
   "outputs": [
    {
     "name": "stdout",
     "output_type": "stream",
     "text": [
      "[name: \"/device:CPU:0\"\n",
      "device_type: \"CPU\"\n",
      "memory_limit: 268435456\n",
      "locality {\n",
      "}\n",
      "incarnation: 14982960516995668210\n",
      ", name: \"/device:GPU:0\"\n",
      "device_type: \"GPU\"\n",
      "memory_limit: 5892931584\n",
      "locality {\n",
      "  bus_id: 1\n",
      "}\n",
      "incarnation: 5284471154733629196\n",
      "physical_device_desc: \"device: 0, name: GeForce GTX 980 Ti, pci bus id: 0000:02:00.0, compute capability: 5.2\"\n",
      "]\n"
     ]
    }
   ],
   "source": [
    "from tensorflow.python.client import device_lib\n",
    "print(device_lib.list_local_devices())"
   ]
  },
  {
   "cell_type": "code",
   "execution_count": 3,
   "metadata": {},
   "outputs": [],
   "source": [
    "def compare_img(img1,img2):\n",
    "    img1 = normalize_gray(img1)\n",
    "    img2 = normalize_gray(img2)\n",
    "    diff = img1 - img2\n",
    "    m_norm = np.sum(abs(diff))\n",
    "#     return m_norm\n",
    "    return 0\n",
    "def normalize_frame(frame):\n",
    "    return frame/255\n",
    "\n",
    "def normalize_gray(frame):\n",
    "    rng = np.max(frame) - np.min(frame)\n",
    "    amin = np.min(frame)\n",
    "    return (frame-amin)/rng #range from [0,1]"
   ]
  },
  {
   "cell_type": "code",
   "execution_count": 4,
   "metadata": {},
   "outputs": [
    {
     "name": "stdout",
     "output_type": "stream",
     "text": [
      "_________________________________________________________________\n",
      "Layer (type)                 Output Shape              Param #   \n",
      "=================================================================\n",
      "conv3d_1 (Conv3D)            (None, 32, 92, 124, 50)   12550     \n",
      "_________________________________________________________________\n",
      "max_pooling3d_1 (MaxPooling3 (None, 16, 46, 62, 50)    0         \n",
      "_________________________________________________________________\n",
      "dropout_1 (Dropout)          (None, 16, 46, 62, 50)    0         \n",
      "_________________________________________________________________\n",
      "conv3d_2 (Conv3D)            (None, 15, 42, 58, 100)   250100    \n",
      "_________________________________________________________________\n",
      "max_pooling3d_2 (MaxPooling3 (None, 7, 21, 29, 100)    0         \n",
      "_________________________________________________________________\n",
      "dropout_2 (Dropout)          (None, 7, 21, 29, 100)    0         \n",
      "_________________________________________________________________\n",
      "conv3d_3 (Conv3D)            (None, 6, 17, 25, 200)    1000200   \n",
      "_________________________________________________________________\n",
      "dropout_3 (Dropout)          (None, 6, 17, 25, 200)    0         \n",
      "_________________________________________________________________\n",
      "max_pooling3d_3 (MaxPooling3 (None, 3, 8, 12, 200)     0         \n",
      "_________________________________________________________________\n",
      "flatten_1 (Flatten)          (None, 57600)             0         \n",
      "_________________________________________________________________\n",
      "dense_1 (Dense)              (None, 128)               7372928   \n",
      "_________________________________________________________________\n",
      "dense_2 (Dense)              (None, 7)                 903       \n",
      "=================================================================\n",
      "Total params: 8,636,681\n",
      "Trainable params: 8,636,681\n",
      "Non-trainable params: 0\n",
      "_________________________________________________________________\n",
      "None\n"
     ]
    },
    {
     "name": "stderr",
     "output_type": "stream",
     "text": [
      "Using TensorFlow backend.\n"
     ]
    }
   ],
   "source": [
    "from keras import Sequential\n",
    "from keras.layers import Dense, Dropout, Activation, Flatten\n",
    "from keras.layers import Convolution3D, MaxPooling3D\n",
    "from keras.utils import np_utils\n",
    "from keras import optimizers\n",
    "\n",
    "def gen_model():\n",
    "    \n",
    "    model = Sequential()\n",
    "#     model.add(Dropout(0.3))\n",
    "    model.add(Convolution3D(50,(2,5,5),strides=1,data_format='channels_last',input_shape = (33,96,128,5),activation='relu'))\n",
    "#     model.add(Dropout(0.2))\n",
    "#     model.add(Dropout(0.5))\n",
    "    model.add(MaxPooling3D(pool_size=(2,2,2), padding='VALID'))\n",
    "    model.add(Dropout(0.3))\n",
    "    model.add(Convolution3D(100,(2,5,5),strides=1,data_format='channels_last',activation='relu'))\n",
    "# #     model.add(Dropout(0.5))\n",
    "    model.add(MaxPooling3D(pool_size=(2,2,2), padding='VALID'))\n",
    "    model.add(Dropout(0.3))\n",
    "    model.add(Convolution3D(200,(2,5,5),strides=1,data_format='channels_last',activation='relu'))\n",
    "    model.add(Dropout(0.3))\n",
    "    model.add(MaxPooling3D(pool_size=(2,2,2), padding='VALID'))\n",
    "# #     model.add(Convolution3D(70,(2,5,5),strides=1,activation='relu'))\n",
    "# #     model.add(Dropout(0.5))\n",
    "    model.add(Flatten())\n",
    "#     model.add(Dense(2048, activation='relu'))\n",
    "    model.add(Dense(128, activation='relu'))\n",
    "#     model.add(Dense(512, activation='relu'))\n",
    "    model.add(Dense(7, activation='softmax'))\n",
    "    print(model.summary())\n",
    "    return model\n",
    "\n",
    "model = gen_model()"
   ]
  },
  {
   "cell_type": "code",
   "execution_count": 5,
   "metadata": {},
   "outputs": [
    {
     "name": "stdout",
     "output_type": "stream",
     "text": [
      "Loaded model from disk\n"
     ]
    }
   ],
   "source": [
    "from keras.models import model_from_yaml\n",
    "\n",
    "model.load_weights(\"adscnn/model-01-0.6914.h5\")\n",
    "print(\"Loaded model from disk\")\n",
    "\n",
    "# opti = optimizers.Adam(lr=0.0001, beta_1=0.9, beta_2=0.999, epsilon=None, decay=0.0, amsgrad=False)\n",
    "# model.compile(loss='categorical_crossentropy', optimizer=opti, metrics=['accuracy'])"
   ]
  },
  {
   "cell_type": "code",
   "execution_count": 6,
   "metadata": {},
   "outputs": [
    {
     "name": "stdout",
     "output_type": "stream",
     "text": [
      "static"
     ]
    }
   ],
   "source": [
    "### HYPERPARAMETERS ###\n",
    "\n",
    "RESIZE_FACTOR = 5\n",
    "DILATION_FACTOR = 3\n",
    "BUFFER_SIZE = 100\n",
    "WIDTH = 640\n",
    "HEIGHT = 480\n",
    "\n",
    "#######################\n",
    "definition = ['static', 'move', 'rot', 'frot', 'light', 'dynamiclight','unknown']\n",
    "buffer = []\n",
    "opticflow_buffer = []\n",
    "cap = cv2.VideoCapture(0)\n",
    "frame_count = 0\n",
    "\n",
    "while(True):\n",
    "    ret, frame = cap.read()\n",
    "    frame = cv2.resize(frame, (0,0),\n",
    "        fx=1/RESIZE_FACTOR, fy=1/RESIZE_FACTOR)\n",
    "    gray = cv2.cvtColor(frame, cv2.COLOR_BGR2GRAY)\n",
    "    opticflow_buffer.append(gray)\n",
    "    if(len(opticflow_buffer) == 2):\n",
    "        if(frame_count % DILATION_FACTOR == 0):\n",
    "            hsv = cv2.cvtColor(frame,cv2.COLOR_BGR2HSV)\n",
    "            hsv = np.subtract(np.multiply(np.divide(hsv,255),2),1)\n",
    "            flow = cv2.calcOpticalFlowFarneback(opticflow_buffer[0],\n",
    "                opticflow_buffer[1], None, 0.5, 3, 15, 3, 5, 1.2, 0)\n",
    "            mag, ang = cv2.cartToPolar(flow[...,0], flow[...,1])\n",
    "            mag = cv2.normalize(mag,None,-1,1,cv2.NORM_MINMAX)\n",
    "            ang = (ang*180/np.pi/2/180) - 1\n",
    "            tmp = np.ndarray((HEIGHT//RESIZE_FACTOR,WIDTH//RESIZE_FACTOR,2))\n",
    "            tmp[:,:,0] = mag\n",
    "            tmp[:,:,1] = ang\n",
    "            data_frame = np.ndarray((HEIGHT//RESIZE_FACTOR,WIDTH//RESIZE_FACTOR,5))\n",
    "            data_frame[:, :, 0:3] = hsv\n",
    "            data_frame[:, :, 3:5] = tmp\n",
    "            buffer.append(data_frame)\n",
    "            if(len(buffer) == BUFFER_SIZE//DILATION_FACTOR):\n",
    "                x = np.asarray(buffer)\n",
    "#                 print(x.shape)\n",
    "                x = x.reshape(1,33,96,128,5)\n",
    "                prediction = model.predict(x)\n",
    "                sys.stdout.write(\"\\r\"+definition[np.argmax(prediction[0])])\n",
    "                sys.stdout.flush()\n",
    "                del buffer[0]\n",
    "        cv2.imshow('frame',frame)\n",
    "        frame_count += 1\n",
    "        del opticflow_buffer[0]\n",
    "    \n",
    "    if cv2.waitKey(1) & 0xFF == ord('q'):\n",
    "        break\n",
    "\n",
    "# When everything done, release the capture\n",
    "cap.release()\n",
    "cv2.destroyAllWindows()"
   ]
  },
  {
   "cell_type": "code",
   "execution_count": null,
   "metadata": {},
   "outputs": [],
   "source": []
  },
  {
   "cell_type": "code",
   "execution_count": null,
   "metadata": {},
   "outputs": [],
   "source": []
  }
 ],
 "metadata": {
  "kernelspec": {
   "display_name": "Python 3",
   "language": "python",
   "name": "python3"
  },
  "language_info": {
   "codemirror_mode": {
    "name": "ipython",
    "version": 3
   },
   "file_extension": ".py",
   "mimetype": "text/x-python",
   "name": "python",
   "nbconvert_exporter": "python",
   "pygments_lexer": "ipython3",
   "version": "3.5.1"
  }
 },
 "nbformat": 4,
 "nbformat_minor": 2
}
